{
 "cells": [
  {
   "cell_type": "code",
   "execution_count": 12,
   "metadata": {},
   "outputs": [],
   "source": [
    "import math\n",
    "import random\n",
    "import plotly.graph_objects as go\n",
    "import numpy as np\n",
    "\n",
    "class Point:\n",
    "    def __init__(self, i, j, ic, jc, k, sigma):\n",
    "        # i, j: 点坐标\n",
    "        self.i = i\n",
    "        self.j = j\n",
    "        # ic, jc: 中心点坐标\n",
    "        self.ic = ic\n",
    "        self.jc = jc\n",
    "        # k, sigma: 打击参数\n",
    "        self.k = k\n",
    "        self.sigma = sigma\n",
    "\n",
    "    # 计算点到中心点的距离\n",
    "    def dist(self):\n",
    "        return ((self.i-self.ic)**2 + (self.j-self.jc)**2)**0.5\n",
    "    # 计算点的概率\n",
    "    def pab(self):\n",
    "        return math.exp(-self.dist()**2/(self.k*self.sigma))\n",
    "    # 计算点成为碎片点的状态，1为是，0为否\n",
    "    def status(self):\n",
    "        return 1-int(random.random()+1-self.pab())\n",
    "    # 计算点的面积（正态分布N(dist, sigma))\n",
    "    def area(self):\n",
    "        return random.gauss(self.dist(), self.sigma)\n",
    "\n",
    "# 初始值\n",
    "# 间隔\n",
    "dn=1\n",
    "dm=1\n",
    "\n",
    "# 中心点在图像中的位置(百分比)\n",
    "ic=50\n",
    "jc=50\n",
    "\n",
    "# 打击参数\n",
    "k=500\n",
    "sigma=1\n"
   ]
  },
  {
   "cell_type": "code",
   "execution_count": 13,
   "metadata": {},
   "outputs": [
    {
     "data": {
      "text/plain": [
       "72.9492131442976"
      ]
     },
     "execution_count": 13,
     "metadata": {},
     "output_type": "execute_result"
    }
   ],
   "source": [
    "p=Point(0, 0, ic, jc, k, sigma)\n",
    "p.area()"
   ]
  },
  {
   "cell_type": "code",
   "execution_count": 14,
   "metadata": {},
   "outputs": [],
   "source": [
    "\n",
    "def draw_many_splinter(dm, dn, ic, jc, k, sigma):\n",
    "    x = []\n",
    "    y = []\n",
    "#假设碎片的长宽比为1：1\n",
    "#碎片中心点为i，j\n",
    "#碎片面积为area\n",
    "#在碎片的每个边上随机选取 1 个点，得到四个随机点\n",
    "#采用计算机图形学中的数值微分直线生成法连接四个点，得到一个碎片\n",
    "#生成所有碎片\n",
    "\n",
    "    for i in np.arange(0, 100, dm):\n",
    "        for j in np.arange(0, 100, dn):\n",
    "            p = Point(i, j, ic, jc, k, sigma)\n",
    "            if p.status() == 1:\n",
    "                a=p.area()**(1/2)\n",
    "                x1 = i-a/2\n",
    "                y1 = random.uniform(j-a/2,j+a/2)\n",
    "                x3 = i+a/2\n",
    "                y3 = random.uniform(j-a/2,j+a/2)\n",
    "\n",
    "                x2 = random.uniform(i-a/2,i+a/2)\n",
    "                y2 = j-a/2\n",
    "                x4 = random.uniform(i-a/2,i+a/2)\n",
    "                y4 = j+a/2\n",
    "                x.extend([x1, x2, x3, x4, x1, None])\n",
    "                y.extend([y1, y2, y3, y4, y1, None])\n",
    "    fig = go.Figure(data=go.Scattergl(x=x, y=y, mode='lines',\n",
    "                                      line=dict(color='blue', width=1)))\n",
    "#碎片内部灰度值为均匀分布U(m,n)的结果，碎片是实心的\n",
    "#v = 150*sigma/dist()\n",
    "#m=原灰度-v\n",
    "#n=原灰度+v\n",
    "\n",
    "\n",
    "    #fig.show()\n",
    "    fig.update_layout(\n",
    "        autosize=False,\n",
    "        width=500,\n",
    "        height=500,\n",
    "        xaxis=dict(\n",
    "            scaleanchor=\"y\",\n",
    "            scaleratio=1,\n",
    "        ),\n",
    "    )\n",
    "    #return fig\n",
    "    fig.show()\n",
    "\n"
   ]
  }
 ],
 "metadata": {
  "kernelspec": {
   "display_name": "Python 3",
   "language": "python",
   "name": "python3"
  },
  "language_info": {
   "codemirror_mode": {
    "name": "ipython",
    "version": 3
   },
   "file_extension": ".py",
   "mimetype": "text/x-python",
   "name": "python",
   "nbconvert_exporter": "python",
   "pygments_lexer": "ipython3",
   "version": "3.12.2"
  }
 },
 "nbformat": 4,
 "nbformat_minor": 2
}
